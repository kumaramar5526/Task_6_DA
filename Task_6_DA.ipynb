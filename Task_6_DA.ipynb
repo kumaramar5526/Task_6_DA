{
  "nbformat": 4,
  "nbformat_minor": 0,
  "metadata": {
    "colab": {
      "provenance": [],
      "authorship_tag": "ABX9TyNI/AhbSfuYr5A7Yr/pLl+y",
      "include_colab_link": true
    },
    "kernelspec": {
      "name": "python3",
      "display_name": "Python 3"
    },
    "language_info": {
      "name": "python"
    }
  },
  "cells": [
    {
      "cell_type": "markdown",
      "metadata": {
        "id": "view-in-github",
        "colab_type": "text"
      },
      "source": [
        "<a href=\"https://colab.research.google.com/github/kumaramar5526/Task_6_DA/blob/main/Task_6_DA.ipynb\" target=\"_parent\"><img src=\"https://colab.research.google.com/assets/colab-badge.svg\" alt=\"Open In Colab\"/></a>"
      ]
    },
    {
      "cell_type": "code",
      "execution_count": 3,
      "metadata": {
        "id": "2oFGeNFZ7j2f"
      },
      "outputs": [],
      "source": [
        "import sqlite3\n",
        "import pandas as pd\n",
        "import matplotlib.pyplot as plt"
      ]
    },
    {
      "cell_type": "markdown",
      "source": [
        "# Step 1: Create a new SQLite database (or connect if it exists)"
      ],
      "metadata": {
        "id": "V1O-LNzW8MRP"
      }
    },
    {
      "cell_type": "code",
      "source": [
        "conn = sqlite3.connect(\"sales_data.db\")\n",
        "cursor = conn.cursor()"
      ],
      "metadata": {
        "id": "y41UG2Nt8NYX"
      },
      "execution_count": 5,
      "outputs": []
    },
    {
      "cell_type": "markdown",
      "source": [
        "# Step 2: Create sales table"
      ],
      "metadata": {
        "id": "vj8jQbfK8Qdh"
      }
    },
    {
      "cell_type": "code",
      "source": [
        "cursor.execute(\"DROP TABLE IF EXISTS sales\")  # reset if rerun\n",
        "cursor.execute(\"\"\"\n",
        "CREATE TABLE sales (\n",
        "    id INTEGER PRIMARY KEY AUTOINCREMENT,\n",
        "    product TEXT,\n",
        "    quantity INTEGER,\n",
        "    price REAL\n",
        ")\n",
        "\"\"\")"
      ],
      "metadata": {
        "id": "ZQZ6CIv18Tkf",
        "colab": {
          "base_uri": "https://localhost:8080/"
        },
        "outputId": "f7cbd3b4-3e9d-47ed-bd06-126914d34da1"
      },
      "execution_count": 6,
      "outputs": [
        {
          "output_type": "execute_result",
          "data": {
            "text/plain": [
              "<sqlite3.Cursor at 0x7c6df943eec0>"
            ]
          },
          "metadata": {},
          "execution_count": 6
        }
      ]
    },
    {
      "cell_type": "markdown",
      "source": [
        "# Step 3: Insert some dummy sales data"
      ],
      "metadata": {
        "id": "WjQgFBEY8YCv"
      }
    },
    {
      "cell_type": "code",
      "source": [
        "sample_data = [\n",
        "    (\"Laptop\", 3, 50000),\n",
        "    (\"Laptop\", 2, 52000),\n",
        "    (\"Mouse\", 10, 500),\n",
        "    (\"Mouse\", 5, 450),\n",
        "    (\"Keyboard\", 4, 1500),\n",
        "    (\"Keyboard\", 6, 1400),\n",
        "    (\"Monitor\", 2, 12000),\n",
        "    (\"Monitor\", 3, 11500),\n",
        "    (\"Headphones\", 7, 2000),\n",
        "    (\"Headphones\", 3, 2200),\n",
        "]\n",
        "\n",
        "cursor.executemany(\"INSERT INTO sales (product, quantity, price) VALUES (?, ?, ?)\", sample_data)"
      ],
      "metadata": {
        "id": "bO2GWk128cgh",
        "colab": {
          "base_uri": "https://localhost:8080/"
        },
        "outputId": "f2bc71b3-580e-4ce3-f6e0-02c7c9317118"
      },
      "execution_count": 7,
      "outputs": [
        {
          "output_type": "execute_result",
          "data": {
            "text/plain": [
              "<sqlite3.Cursor at 0x7c6df943eec0>"
            ]
          },
          "metadata": {},
          "execution_count": 7
        }
      ]
    },
    {
      "cell_type": "markdown",
      "source": [
        "# Step 4: Commit"
      ],
      "metadata": {
        "id": "NKiWdK6G8pb3"
      }
    },
    {
      "cell_type": "code",
      "source": [
        "conn.commit()\n",
        "\n",
        "\n",
        "print(\" sales_data.db created with sample sales table and data.\")\n"
      ],
      "metadata": {
        "id": "TTxhPUqS8wNf",
        "colab": {
          "base_uri": "https://localhost:8080/"
        },
        "outputId": "6329bec3-5790-4342-aad4-ecae62c2f538"
      },
      "execution_count": 8,
      "outputs": [
        {
          "output_type": "stream",
          "name": "stdout",
          "text": [
            " sales_data.db created with sample sales table and data.\n"
          ]
        }
      ]
    },
    {
      "cell_type": "markdown",
      "source": [
        "Run SQL Query"
      ],
      "metadata": {
        "id": "ySddrAkH9nQS"
      }
    },
    {
      "cell_type": "code",
      "source": [
        "query = \"\"\"\n",
        "SELECT product,\n",
        "       SUM(quantity) AS total_qty,\n",
        "       SUM(quantity * price) AS revenue\n",
        "FROM sales\n",
        "GROUP BY product\n",
        "\"\"\"\n",
        "df = pd.read_sql_query(query, conn)"
      ],
      "metadata": {
        "id": "ebg0G-Re_8v9"
      },
      "execution_count": 9,
      "outputs": []
    },
    {
      "cell_type": "markdown",
      "source": [
        "Print Results"
      ],
      "metadata": {
        "id": "enuWyP5gAF6G"
      }
    },
    {
      "cell_type": "code",
      "source": [
        "print(\"📊 Basic Sales Summary\")\n",
        "print(df)"
      ],
      "metadata": {
        "colab": {
          "base_uri": "https://localhost:8080/"
        },
        "id": "kjNIqPkDAG5z",
        "outputId": "019bab55-4679-4b97-b7c8-51a9551dba32"
      },
      "execution_count": 10,
      "outputs": [
        {
          "output_type": "stream",
          "name": "stdout",
          "text": [
            "📊 Basic Sales Summary\n",
            "      product  total_qty   revenue\n",
            "0  Headphones         10   20600.0\n",
            "1    Keyboard         10   14400.0\n",
            "2      Laptop          5  254000.0\n",
            "3     Monitor          5   58500.0\n",
            "4       Mouse         15    7250.0\n"
          ]
        }
      ]
    },
    {
      "cell_type": "markdown",
      "source": [
        "Plot Bar Chart"
      ],
      "metadata": {
        "id": "DpbIPjDtAP8u"
      }
    },
    {
      "cell_type": "code",
      "source": [
        "plt.figure(figsize=(8,5))\n",
        "df.plot(kind='bar', x='product', y='revenue', legend=False, color=\"skyblue\")\n",
        "plt.title(\"Revenue by Product\")\n",
        "plt.ylabel(\"Revenue\")\n",
        "plt.xlabel(\"Product\")\n",
        "plt.xticks(rotation=45)\n",
        "plt.tight_layout()\n",
        "plt.savefig(\"sales_chart.png\")   # Save the chart\n",
        "plt.show()"
      ],
      "metadata": {
        "colab": {
          "base_uri": "https://localhost:8080/",
          "height": 504
        },
        "id": "AIglOgP6ARNu",
        "outputId": "4962da8e-c297-4967-cc7d-84dec513dcd0"
      },
      "execution_count": 11,
      "outputs": [
        {
          "output_type": "display_data",
          "data": {
            "text/plain": [
              "<Figure size 800x500 with 0 Axes>"
            ]
          },
          "metadata": {}
        },
        {
          "output_type": "display_data",
          "data": {
            "text/plain": [
              "<Figure size 640x480 with 1 Axes>"
            ],
            "image/png": "[encoded data removed]"
          },
          "metadata": {}
        }
      ]
    },
    {
      "cell_type": "markdown",
      "source": [
        " Close Connection"
      ],
      "metadata": {
        "id": "VYzA5Y6_AYjn"
      }
    },
    {
      "cell_type": "code",
      "source": [
        "conn.close()"
      ],
      "metadata": {
        "id": "FawLMs4eAlhh"
      },
      "execution_count": 12,
      "outputs": []
    }
  ]
}